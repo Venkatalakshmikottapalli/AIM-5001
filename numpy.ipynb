{
 "cells": [
  {
   "cell_type": "markdown",
   "id": "57f49f98",
   "metadata": {},
   "source": [
    "#pip installl numpy \n",
    "import numpy as np"
   ]
  },
  {
   "cell_type": "code",
   "execution_count": 2,
   "id": "d829d52a",
   "metadata": {},
   "outputs": [],
   "source": [
    "a = np.array([1,2,3,4]) "
   ]
  },
  {
   "cell_type": "code",
   "execution_count": 3,
   "id": "9ccb15b7",
   "metadata": {},
   "outputs": [
    {
     "name": "stdout",
     "output_type": "stream",
     "text": [
      "[1 2 3 4]\n"
     ]
    }
   ],
   "source": [
    "print (a)"
   ]
  },
  {
   "cell_type": "markdown",
   "id": "0871be81",
   "metadata": {},
   "source": []
  },
  {
   "cell_type": "code",
   "execution_count": 4,
   "id": "38a44546",
   "metadata": {},
   "outputs": [],
   "source": [
    "b = np.array([[1,2,3,4],[1,2,3,4]])"
   ]
  },
  {
   "cell_type": "code",
   "execution_count": 5,
   "id": "56632acb",
   "metadata": {},
   "outputs": [
    {
     "name": "stdout",
     "output_type": "stream",
     "text": [
      "[[1 2 3 4]\n",
      " [1 2 3 4]]\n"
     ]
    }
   ],
   "source": [
    "print (b)"
   ]
  },
  {
   "cell_type": "code",
   "execution_count": 6,
   "id": "3405bdf3",
   "metadata": {},
   "outputs": [
    {
     "data": {
      "text/plain": [
       "1"
      ]
     },
     "execution_count": 6,
     "metadata": {},
     "output_type": "execute_result"
    }
   ],
   "source": [
    "a.ndim #dimensions"
   ]
  },
  {
   "cell_type": "code",
   "execution_count": 7,
   "id": "7f5b2357",
   "metadata": {},
   "outputs": [
    {
     "data": {
      "text/plain": [
       "2"
      ]
     },
     "execution_count": 7,
     "metadata": {},
     "output_type": "execute_result"
    }
   ],
   "source": [
    "b.ndim #dimensions"
   ]
  },
  {
   "cell_type": "code",
   "execution_count": 8,
   "id": "b2b219de",
   "metadata": {},
   "outputs": [
    {
     "data": {
      "text/plain": [
       "(2, 4)"
      ]
     },
     "execution_count": 8,
     "metadata": {},
     "output_type": "execute_result"
    }
   ],
   "source": [
    "b.shape # (rows,cols)"
   ]
  },
  {
   "cell_type": "code",
   "execution_count": 53,
   "id": "256d713a",
   "metadata": {},
   "outputs": [
    {
     "data": {
      "text/plain": [
       "dtype('int32')"
      ]
     },
     "execution_count": 53,
     "metadata": {},
     "output_type": "execute_result"
    }
   ],
   "source": [
    "a.dtype #datatype"
   ]
  },
  {
   "cell_type": "code",
   "execution_count": 55,
   "id": "94b9960f",
   "metadata": {},
   "outputs": [
    {
     "data": {
      "text/plain": [
       "dtype('int32')"
      ]
     },
     "execution_count": 55,
     "metadata": {},
     "output_type": "execute_result"
    }
   ],
   "source": [
    "b.dtype"
   ]
  },
  {
   "cell_type": "code",
   "execution_count": 59,
   "id": "8e70eaea",
   "metadata": {},
   "outputs": [
    {
     "data": {
      "text/plain": [
       "4"
      ]
     },
     "execution_count": 59,
     "metadata": {},
     "output_type": "execute_result"
    }
   ],
   "source": [
    "b.itemsize"
   ]
  },
  {
   "cell_type": "code",
   "execution_count": 63,
   "id": "7be8bf81",
   "metadata": {},
   "outputs": [
    {
     "data": {
      "text/plain": [
       "16"
      ]
     },
     "execution_count": 63,
     "metadata": {},
     "output_type": "execute_result"
    }
   ],
   "source": [
    "a.nbytes"
   ]
  },
  {
   "cell_type": "code",
   "execution_count": 68,
   "id": "d2b125f6",
   "metadata": {},
   "outputs": [
    {
     "data": {
      "text/plain": [
       "32"
      ]
     },
     "execution_count": 68,
     "metadata": {},
     "output_type": "execute_result"
    }
   ],
   "source": [
    "b.nbytes"
   ]
  },
  {
   "cell_type": "code",
   "execution_count": 69,
   "id": "4906901d",
   "metadata": {},
   "outputs": [],
   "source": [
    "s = np.zeros ((2,3)) "
   ]
  },
  {
   "cell_type": "code",
   "execution_count": 70,
   "id": "ef1bdd4c",
   "metadata": {},
   "outputs": [
    {
     "name": "stdout",
     "output_type": "stream",
     "text": [
      "[[0. 0. 0.]\n",
      " [0. 0. 0.]]\n"
     ]
    }
   ],
   "source": [
    "print (s)"
   ]
  },
  {
   "cell_type": "code",
   "execution_count": 71,
   "id": "21708fe4",
   "metadata": {},
   "outputs": [],
   "source": [
    "d = np.full((2,3),99)"
   ]
  },
  {
   "cell_type": "code",
   "execution_count": 72,
   "id": "9cf27d37",
   "metadata": {},
   "outputs": [
    {
     "name": "stdout",
     "output_type": "stream",
     "text": [
      "[[99 99 99]\n",
      " [99 99 99]]\n"
     ]
    }
   ],
   "source": [
    "print (d)"
   ]
  },
  {
   "cell_type": "code",
   "execution_count": 78,
   "id": "a2660db0",
   "metadata": {},
   "outputs": [],
   "source": [
    "f = np.full((3,2),99)"
   ]
  },
  {
   "cell_type": "code",
   "execution_count": 79,
   "id": "565ad123",
   "metadata": {},
   "outputs": [
    {
     "name": "stdout",
     "output_type": "stream",
     "text": [
      "[[99 99]\n",
      " [99 99]\n",
      " [99 99]]\n"
     ]
    }
   ],
   "source": [
    "print (f)"
   ]
  },
  {
   "cell_type": "code",
   "execution_count": 80,
   "id": "a497cab0",
   "metadata": {},
   "outputs": [],
   "source": [
    "g = np.random.rand(2,1)"
   ]
  },
  {
   "cell_type": "code",
   "execution_count": 81,
   "id": "dbb16113",
   "metadata": {},
   "outputs": [
    {
     "name": "stdout",
     "output_type": "stream",
     "text": [
      "[[0.07857948]\n",
      " [0.1464623 ]]\n"
     ]
    }
   ],
   "source": [
    "print (g)"
   ]
  },
  {
   "cell_type": "code",
   "execution_count": 82,
   "id": "b22f86e4",
   "metadata": {},
   "outputs": [],
   "source": [
    "k = np.identity(2)"
   ]
  },
  {
   "cell_type": "code",
   "execution_count": 83,
   "id": "418f3003",
   "metadata": {},
   "outputs": [
    {
     "name": "stdout",
     "output_type": "stream",
     "text": [
      "[[1. 0.]\n",
      " [0. 1.]]\n"
     ]
    }
   ],
   "source": [
    "print (k)"
   ]
  },
  {
   "cell_type": "code",
   "execution_count": 106,
   "id": "beb7ea5b",
   "metadata": {},
   "outputs": [],
   "source": [
    "l = np.array([2,3])\n",
    "h = l\n"
   ]
  },
  {
   "cell_type": "code",
   "execution_count": 107,
   "id": "b36ed90c",
   "metadata": {},
   "outputs": [
    {
     "name": "stdout",
     "output_type": "stream",
     "text": [
      "[2 3]\n"
     ]
    }
   ],
   "source": [
    "print (h)"
   ]
  },
  {
   "cell_type": "code",
   "execution_count": 108,
   "id": "86e914b6",
   "metadata": {},
   "outputs": [],
   "source": [
    "l = np.array([2,3])\n",
    "l = h\n"
   ]
  },
  {
   "cell_type": "code",
   "execution_count": 117,
   "id": "763ef72f",
   "metadata": {},
   "outputs": [
    {
     "name": "stdout",
     "output_type": "stream",
     "text": [
      "[2 3]\n"
     ]
    }
   ],
   "source": [
    "h = l.copy()\n",
    "print (h)"
   ]
  },
  {
   "cell_type": "code",
   "execution_count": 143,
   "id": "3a6b2404",
   "metadata": {},
   "outputs": [],
   "source": [
    "x = np.array([1,2,3,4])\n"
   ]
  },
  {
   "cell_type": "code",
   "execution_count": 144,
   "id": "286676b4",
   "metadata": {},
   "outputs": [
    {
     "name": "stdout",
     "output_type": "stream",
     "text": [
      "[1 2 3 4]\n"
     ]
    }
   ],
   "source": [
    "x = x + 0\n",
    "print (x)"
   ]
  },
  {
   "cell_type": "code",
   "execution_count": 145,
   "id": "f89ede96",
   "metadata": {},
   "outputs": [
    {
     "name": "stdout",
     "output_type": "stream",
     "text": [
      "[ 1  4  9 16]\n"
     ]
    }
   ],
   "source": [
    " x = x**2\n",
    "print (x)"
   ]
  },
  {
   "cell_type": "code",
   "execution_count": null,
   "id": "620f6adf",
   "metadata": {},
   "outputs": [],
   "source": []
  }
 ],
 "metadata": {
  "kernelspec": {
   "display_name": "Python 3 (ipykernel)",
   "language": "python",
   "name": "python3"
  },
  "language_info": {
   "codemirror_mode": {
    "name": "ipython",
    "version": 3
   },
   "file_extension": ".py",
   "mimetype": "text/x-python",
   "name": "python",
   "nbconvert_exporter": "python",
   "pygments_lexer": "ipython3",
   "version": "3.11.5"
  }
 },
 "nbformat": 4,
 "nbformat_minor": 5
}
